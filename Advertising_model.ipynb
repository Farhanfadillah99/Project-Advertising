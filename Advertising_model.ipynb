{
 "cells": [
  {
   "cell_type": "markdown",
   "metadata": {
    "ExecuteTime": {
     "end_time": "2019-12-08T01:46:18.042009Z",
     "start_time": "2019-12-08T01:46:18.031009Z"
    }
   },
   "source": [
    "## Prediction Model"
   ]
  },
  {
   "cell_type": "code",
   "execution_count": 1,
   "metadata": {
    "ExecuteTime": {
     "end_time": "2019-12-09T00:42:27.686718Z",
     "start_time": "2019-12-09T00:42:23.639439Z"
    }
   },
   "outputs": [],
   "source": [
    "import pandas as pd\n",
    "import numpy as np\n",
    "import matplotlib.pyplot as plt\n",
    "import seaborn as sns\n",
    "%matplotlib inline\n",
    "import warnings\n",
    "warnings.filterwarnings('ignore')"
   ]
  },
  {
   "cell_type": "code",
   "execution_count": 2,
   "metadata": {
    "ExecuteTime": {
     "end_time": "2019-12-09T00:42:27.733545Z",
     "start_time": "2019-12-09T00:42:27.686718Z"
    }
   },
   "outputs": [],
   "source": [
    "df=pd.read_csv('advertising_ad.csv')"
   ]
  },
  {
   "cell_type": "code",
   "execution_count": 3,
   "metadata": {
    "ExecuteTime": {
     "end_time": "2019-12-09T00:42:28.436615Z",
     "start_time": "2019-12-09T00:42:28.374109Z"
    }
   },
   "outputs": [
    {
     "data": {
      "text/html": [
       "<div>\n",
       "<style scoped>\n",
       "    .dataframe tbody tr th:only-of-type {\n",
       "        vertical-align: middle;\n",
       "    }\n",
       "\n",
       "    .dataframe tbody tr th {\n",
       "        vertical-align: top;\n",
       "    }\n",
       "\n",
       "    .dataframe thead th {\n",
       "        text-align: right;\n",
       "    }\n",
       "</style>\n",
       "<table border=\"1\" class=\"dataframe\">\n",
       "  <thead>\n",
       "    <tr style=\"text-align: right;\">\n",
       "      <th></th>\n",
       "      <th>Daily Time Spent on Site</th>\n",
       "      <th>Age</th>\n",
       "      <th>Area Income</th>\n",
       "      <th>Daily Internet Usage</th>\n",
       "      <th>Ad Topic Line</th>\n",
       "      <th>City</th>\n",
       "      <th>Male</th>\n",
       "      <th>Country</th>\n",
       "      <th>Timestamp</th>\n",
       "      <th>Clicked on Ad</th>\n",
       "      <th>Hour</th>\n",
       "    </tr>\n",
       "  </thead>\n",
       "  <tbody>\n",
       "    <tr>\n",
       "      <td>0</td>\n",
       "      <td>68.95</td>\n",
       "      <td>35</td>\n",
       "      <td>61833.90</td>\n",
       "      <td>256.09</td>\n",
       "      <td>Cloned 5thgeneration orchestration</td>\n",
       "      <td>Wrightburgh</td>\n",
       "      <td>0</td>\n",
       "      <td>Tunisia</td>\n",
       "      <td>2016-03-27 00:53:11</td>\n",
       "      <td>0</td>\n",
       "      <td>0</td>\n",
       "    </tr>\n",
       "    <tr>\n",
       "      <td>1</td>\n",
       "      <td>80.23</td>\n",
       "      <td>31</td>\n",
       "      <td>68441.85</td>\n",
       "      <td>193.77</td>\n",
       "      <td>Monitored national standardization</td>\n",
       "      <td>West Jodi</td>\n",
       "      <td>1</td>\n",
       "      <td>Nauru</td>\n",
       "      <td>2016-04-04 01:39:02</td>\n",
       "      <td>0</td>\n",
       "      <td>1</td>\n",
       "    </tr>\n",
       "    <tr>\n",
       "      <td>2</td>\n",
       "      <td>69.47</td>\n",
       "      <td>26</td>\n",
       "      <td>59785.94</td>\n",
       "      <td>236.50</td>\n",
       "      <td>Organic bottom-line service-desk</td>\n",
       "      <td>Davidton</td>\n",
       "      <td>0</td>\n",
       "      <td>San Marino</td>\n",
       "      <td>2016-03-13 20:35:42</td>\n",
       "      <td>0</td>\n",
       "      <td>20</td>\n",
       "    </tr>\n",
       "    <tr>\n",
       "      <td>3</td>\n",
       "      <td>74.15</td>\n",
       "      <td>29</td>\n",
       "      <td>54806.18</td>\n",
       "      <td>245.89</td>\n",
       "      <td>Triple-buffered reciprocal time-frame</td>\n",
       "      <td>West Terrifurt</td>\n",
       "      <td>1</td>\n",
       "      <td>Italy</td>\n",
       "      <td>2016-01-10 02:31:19</td>\n",
       "      <td>0</td>\n",
       "      <td>2</td>\n",
       "    </tr>\n",
       "    <tr>\n",
       "      <td>4</td>\n",
       "      <td>68.37</td>\n",
       "      <td>35</td>\n",
       "      <td>73889.99</td>\n",
       "      <td>225.58</td>\n",
       "      <td>Robust logistical utilization</td>\n",
       "      <td>South Manuel</td>\n",
       "      <td>0</td>\n",
       "      <td>Iceland</td>\n",
       "      <td>2016-06-03 03:36:18</td>\n",
       "      <td>0</td>\n",
       "      <td>3</td>\n",
       "    </tr>\n",
       "  </tbody>\n",
       "</table>\n",
       "</div>"
      ],
      "text/plain": [
       "   Daily Time Spent on Site  Age  Area Income  Daily Internet Usage  \\\n",
       "0                     68.95   35     61833.90                256.09   \n",
       "1                     80.23   31     68441.85                193.77   \n",
       "2                     69.47   26     59785.94                236.50   \n",
       "3                     74.15   29     54806.18                245.89   \n",
       "4                     68.37   35     73889.99                225.58   \n",
       "\n",
       "                           Ad Topic Line            City  Male     Country  \\\n",
       "0     Cloned 5thgeneration orchestration     Wrightburgh     0     Tunisia   \n",
       "1     Monitored national standardization       West Jodi     1       Nauru   \n",
       "2       Organic bottom-line service-desk        Davidton     0  San Marino   \n",
       "3  Triple-buffered reciprocal time-frame  West Terrifurt     1       Italy   \n",
       "4          Robust logistical utilization    South Manuel     0     Iceland   \n",
       "\n",
       "             Timestamp  Clicked on Ad  Hour  \n",
       "0  2016-03-27 00:53:11              0     0  \n",
       "1  2016-04-04 01:39:02              0     1  \n",
       "2  2016-03-13 20:35:42              0    20  \n",
       "3  2016-01-10 02:31:19              0     2  \n",
       "4  2016-06-03 03:36:18              0     3  "
      ]
     },
     "execution_count": 3,
     "metadata": {},
     "output_type": "execute_result"
    }
   ],
   "source": [
    "df.head()"
   ]
  },
  {
   "cell_type": "code",
   "execution_count": 4,
   "metadata": {
    "ExecuteTime": {
     "end_time": "2019-12-09T00:42:31.280418Z",
     "start_time": "2019-12-09T00:42:31.233540Z"
    }
   },
   "outputs": [
    {
     "name": "stdout",
     "output_type": "stream",
     "text": [
      "<class 'pandas.core.frame.DataFrame'>\n",
      "RangeIndex: 1000 entries, 0 to 999\n",
      "Data columns (total 11 columns):\n",
      "Daily Time Spent on Site    1000 non-null float64\n",
      "Age                         1000 non-null int64\n",
      "Area Income                 1000 non-null float64\n",
      "Daily Internet Usage        1000 non-null float64\n",
      "Ad Topic Line               1000 non-null object\n",
      "City                        1000 non-null object\n",
      "Male                        1000 non-null int64\n",
      "Country                     1000 non-null object\n",
      "Timestamp                   1000 non-null object\n",
      "Clicked on Ad               1000 non-null int64\n",
      "Hour                        1000 non-null int64\n",
      "dtypes: float64(3), int64(4), object(4)\n",
      "memory usage: 86.1+ KB\n"
     ]
    }
   ],
   "source": [
    "df.info()"
   ]
  },
  {
   "cell_type": "code",
   "execution_count": 5,
   "metadata": {
    "ExecuteTime": {
     "end_time": "2019-12-09T00:42:33.889928Z",
     "start_time": "2019-12-09T00:42:32.014819Z"
    }
   },
   "outputs": [
    {
     "data": {
      "text/plain": [
       "<matplotlib.axes._subplots.AxesSubplot at 0x21155df5488>"
      ]
     },
     "execution_count": 5,
     "metadata": {},
     "output_type": "execute_result"
    },
    {
     "data": {
      "image/png": "[encoded data removed]",
      "text/plain": [
       "<Figure size 864x720 with 2 Axes>"
      ]
     },
     "metadata": {
      "needs_background": "light"
     },
     "output_type": "display_data"
    }
   ],
   "source": [
    "plt.figure(figsize=(12,10))\n",
    "sns.heatmap(df.corr(),annot=True)"
   ]
  },
  {
   "cell_type": "markdown",
   "metadata": {},
   "source": [
    "## Train, Test, Split"
   ]
  },
  {
   "cell_type": "code",
   "execution_count": 11,
   "metadata": {
    "ExecuteTime": {
     "end_time": "2019-12-09T00:43:12.077630Z",
     "start_time": "2019-12-09T00:43:12.062008Z"
    }
   },
   "outputs": [],
   "source": [
    "from sklearn.model_selection import train_test_split"
   ]
  },
  {
   "cell_type": "code",
   "execution_count": 12,
   "metadata": {
    "ExecuteTime": {
     "end_time": "2019-12-09T00:43:12.734010Z",
     "start_time": "2019-12-09T00:43:12.702659Z"
    }
   },
   "outputs": [],
   "source": [
    "X = df[['Daily Time Spent on Site', 'Age', 'Area Income','Daily Internet Usage', 'Male','Hour']]\n",
    "y = df['Clicked on Ad']"
   ]
  },
  {
   "cell_type": "code",
   "execution_count": 13,
   "metadata": {
    "ExecuteTime": {
     "end_time": "2019-12-09T00:43:13.327683Z",
     "start_time": "2019-12-09T00:43:13.312059Z"
    }
   },
   "outputs": [
    {
     "data": {
      "text/plain": [
       "545    1\n",
       "298    0\n",
       "109    0\n",
       "837    1\n",
       "194    0\n",
       "      ..\n",
       "974    1\n",
       "878    0\n",
       "744    1\n",
       "721    1\n",
       "812    0\n",
       "Name: Clicked on Ad, Length: 330, dtype: int64"
      ]
     },
     "execution_count": 13,
     "metadata": {},
     "output_type": "execute_result"
    }
   ],
   "source": [
    "y_test"
   ]
  },
  {
   "cell_type": "code",
   "execution_count": 14,
   "metadata": {
    "ExecuteTime": {
     "end_time": "2019-12-09T00:43:15.390223Z",
     "start_time": "2019-12-09T00:43:15.358972Z"
    }
   },
   "outputs": [],
   "source": [
    "X_train, X_test, y_train, y_test = train_test_split(X, y, test_size=0.33, random_state=101)"
   ]
  },
  {
   "cell_type": "markdown",
   "metadata": {},
   "source": [
    "I'm going to evaluate the model using log_loss and accuracy, so I can get a model that not just have a good accuracy but also not much error. And i will try to find the best model between Logistic Regression, Random Forest Classifier, Decision Tree Clasifier."
   ]
  },
  {
   "cell_type": "code",
   "execution_count": 15,
   "metadata": {
    "ExecuteTime": {
     "end_time": "2019-12-09T00:43:18.843524Z",
     "start_time": "2019-12-09T00:43:17.671473Z"
    }
   },
   "outputs": [],
   "source": [
    "from sklearn.linear_model import LogisticRegression\n",
    "from sklearn.ensemble import RandomForestClassifier\n",
    "from sklearn.tree import DecisionTreeClassifier"
   ]
  },
  {
   "cell_type": "code",
   "execution_count": 16,
   "metadata": {
    "ExecuteTime": {
     "end_time": "2019-12-09T00:43:18.905888Z",
     "start_time": "2019-12-09T00:43:18.843524Z"
    }
   },
   "outputs": [],
   "source": [
    "from sklearn.preprocessing import StandardScaler\n",
    "\n",
    "standard_scaler = StandardScaler()\n",
    "\n",
    "#fit_transform\n",
    "df_standart = pd.DataFrame(standard_scaler.fit_transform(X), columns=X.columns)"
   ]
  },
  {
   "cell_type": "code",
   "execution_count": 17,
   "metadata": {
    "ExecuteTime": {
     "end_time": "2019-12-09T00:43:20.343401Z",
     "start_time": "2019-12-09T00:43:20.312153Z"
    }
   },
   "outputs": [],
   "source": [
    "from sklearn.metrics import classification_report, confusion_matrix, accuracy_score, log_loss"
   ]
  },
  {
   "cell_type": "code",
   "execution_count": 18,
   "metadata": {
    "ExecuteTime": {
     "end_time": "2019-12-09T00:43:21.468470Z",
     "start_time": "2019-12-09T00:43:21.359080Z"
    }
   },
   "outputs": [],
   "source": [
    "def try_model(X_train, X_test, y_train, y_test, test_model, hyper):\n",
    "    log_score = 1\n",
    "    accuracy = 0\n",
    "    best = ''\n",
    "    best_acc = ''\n",
    "    scala = 99\n",
    "    scaler = StandardScaler()\n",
    "    for model in test_model:\n",
    "        for i in range(2):\n",
    "            if i == 0:\n",
    "                if model == LogisticRegression:\n",
    "                    m = LogisticRegression()\n",
    "                    m.fit(X_train, y_train)\n",
    "                    if log_loss(y_test, m.predict_proba(X_test)) < log_score:\n",
    "                        log_score = log_loss(y_test, m.predict_proba(X_test))\n",
    "                        best = m\n",
    "                        scala = i\n",
    "                    if accuracy_score(y_test, m.predict(X_test)) > accuracy:\n",
    "                        accuracy = accuracy_score(y_test, m.predict(X_test))\n",
    "                        best_acc = m\n",
    "                        scala_acc = i\n",
    "                elif model == DecisionTreeClassifier:\n",
    "                    if hyper=='No':\n",
    "                        m = DecisionTreeClassifier()\n",
    "                        m.fit(X_train, y_train)\n",
    "                        if log_loss(y_test, m.predict_proba(X_test)) < log_score:\n",
    "                            log_score = log_loss(y_test, m.predict_proba(X_test))\n",
    "                            best = m\n",
    "                            scala = i\n",
    "                        if accuracy_score(y_test, m.predict(X_test)) > accuracy:\n",
    "                            accuracy = accuracy_score(y_test, m.predict(X_test))\n",
    "                            best_acc = m\n",
    "                            scala_acc = i\n",
    "                    else:\n",
    "                        print('Runing DT')\n",
    "                        for criterion in ['gini']:\n",
    "                            for leaf in range(2, 10):\n",
    "                                for split in range(2,10):\n",
    "                                    for depth in range(2,9):\n",
    "                                        m = DecisionTreeClassifier(criterion = criterion, min_samples_leaf = leaf,\n",
    "                                                                       min_samples_split = split, max_depth = depth)\n",
    "                                        m.fit(X_train, y_train)\n",
    "                                        if log_loss(y_test, m.predict_proba(X_test)) < log_score:\n",
    "                                            log_score = log_loss(y_test, m.predict_proba(X_test))\n",
    "                                            best = m\n",
    "                                            scala = i\n",
    "                                        if accuracy_score(y_test, m.predict(X_test)) > accuracy:\n",
    "                                            accuracy = accuracy_score(y_test, m.predict(X_test))\n",
    "                                            best_acc = m\n",
    "                                            scala_acc = i\n",
    "                \n",
    "                elif model == RandomForestClassifier:\n",
    "                    if hyper=='No':\n",
    "                        m = RandomForestClassifier()\n",
    "                        m.fit(X_train, y_train)\n",
    "                        if log_loss(y_test, m.predict_proba(X_test)) < log_score:\n",
    "                            log_score = log_loss(y_test, m.predict_proba(X_test))\n",
    "                            best = m\n",
    "                            scala = i\n",
    "                        if accuracy_score(y_test, m.predict(X_test)) > accuracy:\n",
    "                            accuracy = accuracy_score(y_test, m.predict(X_test))\n",
    "                            best_acc = m\n",
    "                            scala_acc = i\n",
    "                    else:\n",
    "                        print('Runing Random Forest')\n",
    "                        for criterion in ['gini']:\n",
    "                            for leaf in range(2, 10):\n",
    "                                for split in range(2,10):\n",
    "                                    for depth in range(2,9):\n",
    "                                        for bootstrap in [True, False]:\n",
    "                                            for est in [10,20, 50, 100, 200, 400, 800]:\n",
    "                                                m = RandomForestClassifier(criterion = criterion, min_samples_leaf = leaf,\n",
    "                                                                       min_samples_split = split, max_depth = depth, \n",
    "                                                                       bootstrap = bootstrap)\n",
    "                                                m.fit(X_train, y_train)\n",
    "                                                if log_loss(y_test, m.predict_proba(X_test)) < log_score:\n",
    "                                                    log_score = log_loss(y_test, m.predict_proba(X_test))\n",
    "                                                    best = m\n",
    "                                                    scala = i\n",
    "                                                if accuracy_score(y_test, m.predict(X_test)) > accuracy:\n",
    "                                                    accuracy = accuracy_score(y_test, m.predict(X_test))\n",
    "                                                    best_acc = m\n",
    "                                                    scala_acc = i\n",
    "                \n",
    "                    \n",
    "            elif i == 1:\n",
    "                X_train = scaler.fit_transform(X_train)\n",
    "                X_test = scaler.fit_transform(X_test)\n",
    "                if model == LogisticRegression:\n",
    "                    m = LogisticRegression()\n",
    "                    m.fit(X_train, y_train)\n",
    "                    if log_loss(y_test, m.predict_proba(X_test)) < log_score:\n",
    "                            log_score = log_loss(y_test, m.predict_proba(X_test))\n",
    "                            best = m\n",
    "                            scala = i\n",
    "                    if accuracy_score(y_test, m.predict(X_test)) > accuracy:\n",
    "                        accuracy = accuracy_score(y_test, m.predict(X_test))\n",
    "                        best_acc = m\n",
    "                        scala = i\n",
    "                elif model == DecisionTreeClassifier:\n",
    "                    if hyper=='No':\n",
    "                        m = DecisionTreeClassifier()\n",
    "                        m.fit(X_train, y_train)\n",
    "                        if log_loss(y_test, m.predict_proba(X_test)) < log_score:\n",
    "                            log_score = log_loss(y_test, m.predict_proba(X_test))\n",
    "                            best = m\n",
    "                            scala = i\n",
    "                        if accuracy_score(y_test, m.predict(X_test)) > accuracy:\n",
    "                            accuracy = accuracy_score(y_test, m.predict(X_test))\n",
    "                            best_acc = m\n",
    "                            scala_acc = i\n",
    "                    else:\n",
    "                        print('Runing DT')\n",
    "                        for criterion in ['gini']:\n",
    "                            for leaf in range(2, 10):\n",
    "                                for split in range(2,10):\n",
    "                                    for depth in range(2,8):\n",
    "                                        m = DecisionTreeClassifier(criterion = criterion, min_samples_leaf = leaf,\n",
    "                                                                       min_samples_split = split, max_depth = depth)\n",
    "                                        m.fit(X_train, y_train)\n",
    "                                        if log_loss(y_test, m.predict_proba(X_test)) < log_score:\n",
    "                                            log_score = log_loss(y_test, m.predict_proba(X_test))\n",
    "                                            best = m\n",
    "                                            scala = i\n",
    "                                        if accuracy_score(y_test, m.predict(X_test)) > accuracy:\n",
    "                                            accuracy = accuracy_score(y_test, m.predict(X_test))\n",
    "                                            best_acc = m\n",
    "                                            scala_acc = i\n",
    "                \n",
    "                elif model == RandomForestClassifier:\n",
    "                    if hyper=='No':\n",
    "                        m = RandomForestClassifier()\n",
    "                        m.fit(X_train, y_train)\n",
    "                        if log_loss(y_test, m.predict_proba(X_test)) < log_score:\n",
    "                            log_score = log_loss(y_test, m.predict_proba(X_test))\n",
    "                            best = m\n",
    "                            scala = i\n",
    "                        if accuracy_score(y_test, m.predict(X_test)) > accuracy:\n",
    "                            accuracy = accuracy_score(y_test, m.predict(X_test))\n",
    "                            best_acc = m\n",
    "                            scala_acc = i\n",
    "                    else:\n",
    "                        print('Runing Random Forest')\n",
    "                        for criterion in ['gini']:\n",
    "                            for leaf in range(2, 10):\n",
    "                                for split in range(2,10):\n",
    "                                    for depth in range(2,5):\n",
    "                                        for bootstrap in [True, False]:\n",
    "                                            for est in [10,20, 50, 100, 200, 400, 800]:\n",
    "                                                m = RandomForestClassifier(criterion = criterion, min_samples_leaf = leaf,\n",
    "                                                                       min_samples_split = split, max_depth = depth, \n",
    "                                                                       bootstrap = bootstrap)\n",
    "                                            m.fit(X_train, y_train)\n",
    "                                            if log_loss(y_test, m.predict_proba(X_test)) < log_score:\n",
    "                                                log_score = log_loss(y_test, m.predict_proba(X_test))\n",
    "                                                best = m\n",
    "                                                scala = i\n",
    "                                            if accuracy_score(y_test, m.predict(X_test)) > accuracy:\n",
    "                                                accuracy = accuracy_score(y_test, m.predict(X_test))\n",
    "                                                best_acc = m\n",
    "                                                scala_acc = i\n",
    "                \n",
    "                \n",
    "    return {'log_score' :log_score, 'best_model':best, 'scala': scala, 'best_acc':best_acc, 'accuracy': accuracy, 'scala_acc':scala_acc}"
   ]
  },
  {
   "cell_type": "markdown",
   "metadata": {},
   "source": [
    "Test using X_train and Y_train without optimizing hyperparamater"
   ]
  },
  {
   "cell_type": "code",
   "execution_count": 19,
   "metadata": {
    "ExecuteTime": {
     "end_time": "2019-12-09T00:43:24.718485Z",
     "start_time": "2019-12-09T00:43:24.124720Z"
    }
   },
   "outputs": [
    {
     "data": {
      "text/plain": [
       "{'log_score': 0.06862224588748692,\n",
       " 'best_model': LogisticRegression(C=1.0, class_weight=None, dual=False, fit_intercept=True,\n",
       "                    intercept_scaling=1, l1_ratio=None, max_iter=100,\n",
       "                    multi_class='warn', n_jobs=None, penalty='l2',\n",
       "                    random_state=None, solver='warn', tol=0.0001, verbose=0,\n",
       "                    warm_start=False),\n",
       " 'scala': 1,\n",
       " 'best_acc': LogisticRegression(C=1.0, class_weight=None, dual=False, fit_intercept=True,\n",
       "                    intercept_scaling=1, l1_ratio=None, max_iter=100,\n",
       "                    multi_class='warn', n_jobs=None, penalty='l2',\n",
       "                    random_state=None, solver='warn', tol=0.0001, verbose=0,\n",
       "                    warm_start=False),\n",
       " 'accuracy': 0.9787878787878788,\n",
       " 'scala_acc': 0}"
      ]
     },
     "execution_count": 19,
     "metadata": {},
     "output_type": "execute_result"
    }
   ],
   "source": [
    "test_model = [LogisticRegression,DecisionTreeClassifier,\n",
    "              RandomForestClassifier]\n",
    "hyper = 'No'\n",
    "result = try_model(X_train, X_test, y_train, y_test, test_model, hyper)\n",
    "\n",
    "result #x_train"
   ]
  },
  {
   "cell_type": "markdown",
   "metadata": {},
   "source": [
    "Test using X_train and Y_train with optimizing hyperparamater"
   ]
  },
  {
   "cell_type": "code",
   "execution_count": 20,
   "metadata": {
    "ExecuteTime": {
     "end_time": "2019-12-09T00:46:11.369494Z",
     "start_time": "2019-12-09T00:43:32.265378Z"
    }
   },
   "outputs": [
    {
     "name": "stdout",
     "output_type": "stream",
     "text": [
      "Runing DT\n",
      "Runing DT\n",
      "Runing Random Forest\n",
      "Runing Random Forest\n"
     ]
    },
    {
     "data": {
      "text/plain": [
       "{'log_score': 0.06862224588748692,\n",
       " 'best_model': LogisticRegression(C=1.0, class_weight=None, dual=False, fit_intercept=True,\n",
       "                    intercept_scaling=1, l1_ratio=None, max_iter=100,\n",
       "                    multi_class='warn', n_jobs=None, penalty='l2',\n",
       "                    random_state=None, solver='warn', tol=0.0001, verbose=0,\n",
       "                    warm_start=False),\n",
       " 'scala': 1,\n",
       " 'best_acc': LogisticRegression(C=1.0, class_weight=None, dual=False, fit_intercept=True,\n",
       "                    intercept_scaling=1, l1_ratio=None, max_iter=100,\n",
       "                    multi_class='warn', n_jobs=None, penalty='l2',\n",
       "                    random_state=None, solver='warn', tol=0.0001, verbose=0,\n",
       "                    warm_start=False),\n",
       " 'accuracy': 0.9787878787878788,\n",
       " 'scala_acc': 0}"
      ]
     },
     "execution_count": 20,
     "metadata": {},
     "output_type": "execute_result"
    }
   ],
   "source": [
    "test_model = [LogisticRegression,DecisionTreeClassifier,\n",
    "              RandomForestClassifier]\n",
    "hyper = 'Yes'\n",
    "result = try_model(X_train, X_test, y_train, y_test, test_model, 'Yes')\n",
    "result #x-train"
   ]
  },
  {
   "cell_type": "markdown",
   "metadata": {},
   "source": [
    "There's no different after using hyperparameter"
   ]
  },
  {
   "cell_type": "markdown",
   "metadata": {},
   "source": [
    "To check whether my function's result was correct I run LogisticRegrestion once more just to make sure."
   ]
  },
  {
   "cell_type": "code",
   "execution_count": 21,
   "metadata": {
    "ExecuteTime": {
     "end_time": "2019-12-09T00:46:20.713713Z",
     "start_time": "2019-12-09T00:46:20.698090Z"
    }
   },
   "outputs": [],
   "source": [
    "log_model=[LogisticRegression(C=1.0, class_weight=None, dual=False, fit_intercept=True,\n",
    "                    intercept_scaling=1, l1_ratio=None, max_iter=100,\n",
    "                    multi_class='warn', n_jobs=None, penalty='l2',\n",
    "                    random_state=None, solver='warn', tol=0.0001, verbose=0,\n",
    "                    warm_start=False)]"
   ]
  },
  {
   "cell_type": "code",
   "execution_count": 22,
   "metadata": {
    "ExecuteTime": {
     "end_time": "2019-12-09T00:46:21.541879Z",
     "start_time": "2019-12-09T00:46:21.479473Z"
    }
   },
   "outputs": [
    {
     "name": "stdout",
     "output_type": "stream",
     "text": [
      "X_train Classification Report\n",
      "\n",
      "              precision    recall  f1-score   support\n",
      "\n",
      "           0       0.91      0.94      0.93       171\n",
      "           1       0.94      0.91      0.92       159\n",
      "\n",
      "    accuracy                           0.92       330\n",
      "   macro avg       0.92      0.92      0.92       330\n",
      "weighted avg       0.92      0.92      0.92       330\n",
      "\n",
      "Log loss :  0.19956722426209295\n",
      "Accuracy Score :  0.9242424242424242\n"
     ]
    }
   ],
   "source": [
    "for model in log_model:\n",
    "    model.fit(X_train, y_train)\n",
    "    predictions = model.predict(X_test)\n",
    "    print('X_train Classification Report\\n')\n",
    "    print(classification_report(y_test,predictions))\n",
    "    print('Log loss : ',log_loss(y_test,model.predict_proba(X_test)))\n",
    "    print('Accuracy Score : ',accuracy_score(y_test,predictions))"
   ]
  },
  {
   "cell_type": "markdown",
   "metadata": {},
   "source": [
    "\n",
    "Now, I will test RandomForestClassifier model, I test all three of the model just to make sure, I got the best hyperparameter"
   ]
  },
  {
   "cell_type": "code",
   "execution_count": 23,
   "metadata": {
    "ExecuteTime": {
     "end_time": "2019-12-09T00:46:28.167157Z",
     "start_time": "2019-12-09T00:46:28.120279Z"
    }
   },
   "outputs": [],
   "source": [
    "list_model=[RandomForestClassifier(bootstrap=True, class_weight=None, criterion='gini',\n",
    "                        max_depth=None, max_features='auto', max_leaf_nodes=None,\n",
    "                        min_impurity_decrease=0.0, min_impurity_split=None,\n",
    "                        min_samples_leaf=1, min_samples_split=2,\n",
    "                        min_weight_fraction_leaf=0.0, n_estimators=10,\n",
    "                        n_jobs=None, oob_score=False, random_state=None,\n",
    "                        verbose=0, warm_start=False),\n",
    "            RandomForestClassifier(bootstrap=False, class_weight=None, criterion='gini',\n",
    "                        max_depth=8, max_features='auto', max_leaf_nodes=None,\n",
    "                        min_impurity_decrease=0.0, min_impurity_split=None,\n",
    "                        min_samples_leaf=3, min_samples_split=6,\n",
    "                        min_weight_fraction_leaf=0.0, n_estimators=10,\n",
    "                        n_jobs=None, oob_score=False, random_state=None,\n",
    "                        verbose=0, warm_start=False),\n",
    "            RandomForestClassifier(bootstrap=False, class_weight=None, criterion='gini',\n",
    "                        max_depth=8, max_features='auto', max_leaf_nodes=None,\n",
    "                        min_impurity_decrease=0.0, min_impurity_split=None,\n",
    "                        min_samples_leaf=2, min_samples_split=9,\n",
    "                        min_weight_fraction_leaf=0.0, n_estimators=10,\n",
    "                        n_jobs=None, oob_score=False, random_state=None,\n",
    "                        verbose=0, warm_start=False),\n",
    "           \n",
    "           ]"
   ]
  },
  {
   "cell_type": "code",
   "execution_count": 24,
   "metadata": {
    "ExecuteTime": {
     "end_time": "2019-12-09T00:46:32.123160Z",
     "start_time": "2019-12-09T00:46:30.969069Z"
    }
   },
   "outputs": [
    {
     "data": {
      "image/png": "[encoded data removed]",
      "text/plain": [
       "<Figure size 432x288 with 1 Axes>"
      ]
     },
     "metadata": {
      "needs_background": "light"
     },
     "output_type": "display_data"
    },
    {
     "name": "stdout",
     "output_type": "stream",
     "text": [
      "X_train Classification Report Model 1\n",
      "\n",
      "              precision    recall  f1-score   support\n",
      "\n",
      "           0       0.95      0.96      0.96       171\n",
      "           1       0.96      0.95      0.95       159\n",
      "\n",
      "    accuracy                           0.95       330\n",
      "   macro avg       0.95      0.95      0.95       330\n",
      "weighted avg       0.95      0.95      0.95       330\n",
      "\n",
      "Log loss :  0.3070140392743248\n",
      "Accuracy Score :  0.9545454545454546\n"
     ]
    },
    {
     "data": {
      "image/png": "[encoded data removed]",
      "text/plain": [
       "<Figure size 432x288 with 1 Axes>"
      ]
     },
     "metadata": {
      "needs_background": "light"
     },
     "output_type": "display_data"
    },
    {
     "name": "stdout",
     "output_type": "stream",
     "text": [
      "X_train Classification Report Model 1\n",
      "\n",
      "              precision    recall  f1-score   support\n",
      "\n",
      "           0       0.97      0.96      0.96       171\n",
      "           1       0.96      0.97      0.96       159\n",
      "\n",
      "    accuracy                           0.96       330\n",
      "   macro avg       0.96      0.96      0.96       330\n",
      "weighted avg       0.96      0.96      0.96       330\n",
      "\n",
      "Log loss :  0.12583550541264762\n",
      "Accuracy Score :  0.9636363636363636\n"
     ]
    },
    {
     "data": {
      "image/png": "[encoded data removed]",
      "text/plain": [
       "<Figure size 432x288 with 1 Axes>"
      ]
     },
     "metadata": {
      "needs_background": "light"
     },
     "output_type": "display_data"
    },
    {
     "name": "stdout",
     "output_type": "stream",
     "text": [
      "X_train Classification Report Model 1\n",
      "\n",
      "              precision    recall  f1-score   support\n",
      "\n",
      "           0       0.96      0.96      0.96       171\n",
      "           1       0.96      0.96      0.96       159\n",
      "\n",
      "    accuracy                           0.96       330\n",
      "   macro avg       0.96      0.96      0.96       330\n",
      "weighted avg       0.96      0.96      0.96       330\n",
      "\n",
      "Log loss :  0.22769972085662998\n",
      "Accuracy Score :  0.9636363636363636\n"
     ]
    }
   ],
   "source": [
    "i = 1\n",
    "for model in list_model:\n",
    "    \n",
    "    model.fit(X_train, y_train)\n",
    "    predictions = model.predict(X_test)\n",
    "    features_importance = pd.Series(model.feature_importances_, X_train.columns).sort_values(ascending=False)\n",
    "    features_importance.plot(kind='bar',title=f'Feature Importances X_train Model{i}')\n",
    "    plt.show()\n",
    "    \n",
    "    print(f'X_train Classification Report Model {i}\\n')\n",
    "    print(classification_report(y_test,predictions))\n",
    "    print('Log loss : ',log_loss(y_test,model.predict_proba(X_test)))\n",
    "    print('Accuracy Score : ',accuracy_score(y_test,predictions))\n"
   ]
  },
  {
   "cell_type": "markdown",
   "metadata": {},
   "source": [
    "From this test we know that LogisticRegrestion is the best modelfor this prediction. And as we assume while ploting distribution of Clicked on Ad features: Daily Internet Usage, Daily Time Spent on Site have a significant influence to Clicked on Ad features. We can see from features importance, that those two always stayed in top 5 importance features, we can assume that the higher Customer Daily Time Spent on Site and Daily Internet Usage it's increase the frequency of an ad."
   ]
  },
  {
   "cell_type": "code",
   "execution_count": 25,
   "metadata": {
    "ExecuteTime": {
     "end_time": "2019-12-09T00:46:55.254868Z",
     "start_time": "2019-12-09T00:46:55.236864Z"
    }
   },
   "outputs": [],
   "source": [
    "import pickle\n",
    "\n",
    "pickle.dump(log_model, open('Advertising_ad_model', 'wb'))"
   ]
  },
  {
   "cell_type": "code",
   "execution_count": 26,
   "metadata": {
    "ExecuteTime": {
     "end_time": "2019-12-09T00:47:00.673172Z",
     "start_time": "2019-12-09T00:47:00.665271Z"
    }
   },
   "outputs": [],
   "source": [
    "loadModel = pickle.load(open('Advertising_ad_model', 'rb'))"
   ]
  },
  {
   "cell_type": "code",
   "execution_count": 27,
   "metadata": {
    "ExecuteTime": {
     "end_time": "2019-12-09T00:47:01.484888Z",
     "start_time": "2019-12-09T00:47:01.477880Z"
    }
   },
   "outputs": [
    {
     "name": "stdout",
     "output_type": "stream",
     "text": [
      "[LogisticRegression(C=1.0, class_weight=None, dual=False, fit_intercept=True,\n",
      "                   intercept_scaling=1, l1_ratio=None, max_iter=100,\n",
      "                   multi_class='warn', n_jobs=None, penalty='l2',\n",
      "                   random_state=None, solver='warn', tol=0.0001, verbose=0,\n",
      "                   warm_start=False)]\n"
     ]
    }
   ],
   "source": [
    "print(str(loadModel))"
   ]
  },
  {
   "cell_type": "code",
   "execution_count": null,
   "metadata": {},
   "outputs": [],
   "source": []
  }
 ],
 "metadata": {
  "kernelspec": {
   "display_name": "Python 3",
   "language": "python",
   "name": "python3"
  },
  "language_info": {
   "codemirror_mode": {
    "name": "ipython",
    "version": 3
   },
   "file_extension": ".py",
   "mimetype": "text/x-python",
   "name": "python",
   "nbconvert_exporter": "python",
   "pygments_lexer": "ipython3",
   "version": "3.7.4"
  }
 },
 "nbformat": 4,
 "nbformat_minor": 2
}
